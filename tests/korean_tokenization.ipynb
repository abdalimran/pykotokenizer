{
 "cells": [
  {
   "cell_type": "code",
   "execution_count": 1,
   "metadata": {},
   "outputs": [],
   "source": [
    "from ko_tokenizer import KoTokenizer\n",
    "from ko_spacing import KoSpacing\n",
    "\n",
    "tokenizer = KoTokenizer()\n",
    "spacing = KoSpacing()"
   ]
  },
  {
   "cell_type": "code",
   "execution_count": 2,
   "metadata": {},
   "outputs": [],
   "source": [
    "korean_text = \"김형호영화시장분석가는'1987'의네이버영화정보네티즌10점평에서언급된단어들을지난해12월27일부터올해1월10일까지통계프로그램R과KoNLP패키지로텍스트마이닝하여분석했다.\""
   ]
  },
  {
   "cell_type": "code",
   "execution_count": 3,
   "metadata": {},
   "outputs": [
    {
     "data": {
      "text/plain": [
       "['김',\n",
       " '형호',\n",
       " '영화',\n",
       " '시장',\n",
       " '분석가',\n",
       " '는',\n",
       " \"'\",\n",
       " '1987',\n",
       " \"'\",\n",
       " '의',\n",
       " '네이버',\n",
       " '영화',\n",
       " '정보',\n",
       " '네티즌',\n",
       " '10',\n",
       " '점평',\n",
       " '에서',\n",
       " '언급',\n",
       " '된',\n",
       " '단어',\n",
       " '들',\n",
       " '을',\n",
       " '지난',\n",
       " '해',\n",
       " '12',\n",
       " '월',\n",
       " '27',\n",
       " '일',\n",
       " '부터',\n",
       " '올해',\n",
       " '1',\n",
       " '월',\n",
       " '10',\n",
       " '일',\n",
       " '까지',\n",
       " '통계',\n",
       " '프로그램',\n",
       " 'R',\n",
       " '과',\n",
       " 'KoNLP',\n",
       " '패키지',\n",
       " '로',\n",
       " '텍스트',\n",
       " '마이닝',\n",
       " '하여',\n",
       " '분석',\n",
       " '했다',\n",
       " '.']"
      ]
     },
     "execution_count": 3,
     "metadata": {},
     "output_type": "execute_result"
    }
   ],
   "source": [
    "tokenizer(korean_text)"
   ]
  },
  {
   "cell_type": "code",
   "execution_count": 4,
   "metadata": {},
   "outputs": [
    {
     "data": {
      "text/plain": [
       "['김형호',\n",
       " '영화시장',\n",
       " '분석가는',\n",
       " \"'1987'의\",\n",
       " '네이버',\n",
       " '영화',\n",
       " '정보',\n",
       " '네티즌',\n",
       " '10점',\n",
       " '평에서',\n",
       " '언급된',\n",
       " '단어들을',\n",
       " '지난해',\n",
       " '12월',\n",
       " '27일부터',\n",
       " '올해',\n",
       " '1월',\n",
       " '10일까지',\n",
       " '통계',\n",
       " '프로그램',\n",
       " 'R과',\n",
       " 'KoNLP',\n",
       " '패키지로',\n",
       " '텍스트마이닝하여',\n",
       " '분석했다.']"
      ]
     },
     "execution_count": 4,
     "metadata": {},
     "output_type": "execute_result"
    }
   ],
   "source": [
    "spacing(korean_text)"
   ]
  },
  {
   "cell_type": "code",
   "execution_count": null,
   "metadata": {},
   "outputs": [],
   "source": []
  }
 ],
 "metadata": {
  "interpreter": {
   "hash": "6d53747eb48dc7975875c600a83c22e4dea514faf68a458c923b53197a32eb30"
  },
  "kernelspec": {
   "display_name": "Python 3.8.0 64-bit ('sentiment': conda)",
   "language": "python",
   "name": "python3"
  },
  "language_info": {
   "codemirror_mode": {
    "name": "ipython",
    "version": 3
   },
   "file_extension": ".py",
   "mimetype": "text/x-python",
   "name": "python",
   "nbconvert_exporter": "python",
   "pygments_lexer": "ipython3",
   "version": "3.8.12"
  }
 },
 "nbformat": 4,
 "nbformat_minor": 2
}
